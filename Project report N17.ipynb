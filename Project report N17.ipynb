{
 "cells": [
  {
   "cell_type": "markdown",
   "metadata": {},
   "source": [
    "# Báo cáo Project\n",
    "Lớp TTNT-T20242-156727, Nhóm G17"
   ]
  },
  {
   "cell_type": "markdown",
   "metadata": {},
   "source": [
    "## 1. Thông tin chung"
   ]
  },
  {
   "cell_type": "markdown",
   "metadata": {},
   "source": [
    "### Thành viên\n",
    "- Nguyễn Khánh Toàn 20225936\n",
    "- Phạm Quốc Cường 20225604\n",
    "- Nguyễn Bùi Tuấn Linh 20225732\n",
    "- Hồ Tuấn Huy 20225856\n",
    "- Hà Trung Chiến 20225794"
   ]
  },
  {
   "cell_type": "markdown",
   "metadata": {},
   "source": [
    "### Lịch thực hiện\n",
    "- W25: Đăng ký nhóm \n",
    "- W26: Đề xuất project (1/3)\n",
    "- W31: Báo cáo tiến độ giữa kỳ (5/4)\n",
    "- W37: Hoàn thành và gửi báo cáo project (17/5)\n",
    "- W38-40: Trình bày project, Q&A"
   ]
  },
  {
   "cell_type": "markdown",
   "metadata": {},
   "source": [
    "## 2. Đề xuất project (W26)"
   ]
  },
  {
   "cell_type": "markdown",
   "metadata": {},
   "source": [
    "### Bài toán\n",
    "#### Hệ thống gợi ý trang phục\n",
    " \n",
    "Hình thức hoạt động: Người dùng đưa 1 bức ảnh về các trang phục như áo, quần, giày, ... và xong đó hệ thống sẽ đưa ra những bức ảnh giống về những bộ quần áo giống với đầu vào nhất"
   ]
  },
  {
   "cell_type": "markdown",
   "metadata": {},
   "source": [
    "### Phương pháp\n",
    "#### 1. Xử lý ảnh đầu vào\n",
    "- Chuẩn hóa tập dữ liệu ảnh về dạng các ma trận và resize về kích thước chuẩn\n",
    "- Chuẩn hóa giá trị pixel\n",
    "- Thêm các dữ liệu từ các góc của bức ảnh (Augmentation Data)\n",
    "\n",
    "#### 2. Trích xuất đặc trưng & lưu trữ dữ liệu\n",
    "- Xây dựng mô hình CNN nhận diện các hình ảnh quần áo theo tên các nhóm ảnh quần áo\n",
    "- Cắt các lớp cuối phân loại của mô hình, giữ lại các lớp trích xuất đặc trưng\n",
    "- Lưu trước tập các vector đặc trưng của các bức ảnh quần áo\n",
    "\n",
    "#### 3. Truy vấn & tìm kiếm ảnh tương tự\n",
    "- Hệ thống trích xuất vector đặc trưng của ảnh mới được tải lên\n",
    "- Sử dụng phương pháp tìm kiếm gần nhất (KNN – Nearest Neighbors) trong không gian vector để tìm các ảnh có đặc trưng gần nhất với ảnh đầu vào\n",
    "- Lấy danh sách ảnh tương tự và hiển thị kết quả cho người dùng"
   ]
  },
  {
   "cell_type": "markdown",
   "metadata": {},
   "source": [
    "### Phân công\n",
    "- Nguyễn Khánh Toàn: Tìm hiểu về mạng CNN (đặc biệt là lớp Convolution) và các lớp trích xuất đặc trưng của mô hình \n",
    "- Phạm Quốc Cường: Tìm hiểu về các thuật toán cập nhật tham số\n",
    "- Nguyễn Bùi Tuấn Linh: Tìm hiểu về mạng nơ ron nhân tạo\n",
    "- Hồ Tuấn Huy: Tìm hiểu về các lớp còn lại trong mạng phân loại các bức ảnh (Max  Pooling, Batchnorm, ...)\n",
    "- Hà Trung Chiến: Thu thập dữ liệu và tìm hiểu các phương pháp xử lý dữ liệu"
   ]
  },
  {
   "cell_type": "markdown",
   "metadata": {},
   "source": [
    "## 3. Tiến độ giữa kỳ (W31)"
   ]
  },
  {
   "cell_type": "markdown",
   "metadata": {},
   "source": [
    "### Chương trình\n",
    "..."
   ]
  },
  {
   "cell_type": "markdown",
   "metadata": {},
   "source": [
    "### Kết quả, vấn đề gặp phải\n",
    "..."
   ]
  },
  {
   "cell_type": "markdown",
   "metadata": {},
   "source": [
    "## 4. Cập nhật kết quả cuối kỳ (W37)"
   ]
  },
  {
   "cell_type": "markdown",
   "metadata": {},
   "source": [
    "### Chi tiết phương pháp, dữ liệu \n",
    "...."
   ]
  },
  {
   "cell_type": "markdown",
   "metadata": {},
   "source": [
    "### Chương trình\n",
    "..."
   ]
  },
  {
   "cell_type": "markdown",
   "metadata": {},
   "source": [
    "### Phân tích, đánh giá kết quả\n",
    "..."
   ]
  },
  {
   "cell_type": "markdown",
   "metadata": {},
   "source": [
    "### Cập nhật phân công, khối lượng công việc\n",
    "<!-- công việc của các thành viên, tỷ lệ đóng góp của các thành viên -->\n",
    "..."
   ]
  }
 ],
 "metadata": {
  "language_info": {
   "name": "python"
  }
 },
 "nbformat": 4,
 "nbformat_minor": 2
}
